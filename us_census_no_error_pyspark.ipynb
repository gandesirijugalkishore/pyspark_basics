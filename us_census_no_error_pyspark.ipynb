{
 "cells": [
  {
   "cell_type": "code",
   "execution_count": 2,
   "metadata": {},
   "outputs": [],
   "source": [
    "import pyspark\n",
    "from pyspark.context import SparkContext\n",
    "from pyspark.sql.session import SparkSession\n",
    "sc = SparkContext.getOrCreate()\n",
    "spark = SparkSession(sc)"
   ]
  },
  {
   "cell_type": "code",
   "execution_count": 57,
   "metadata": {},
   "outputs": [],
   "source": [
    "df=spark.read.format(\"csv\").option(\"header\",\"true\").option(\"inferSchema\",\"true\").load(\"us_census_no_error.csv\")"
   ]
  },
  {
   "cell_type": "code",
   "execution_count": 61,
   "metadata": {
    "scrolled": true
   },
   "outputs": [
    {
     "name": "stdout",
     "output_type": "stream",
     "text": [
      "+----------+-------+----------------------------+---------------+--------------------+------------------------+----------+---------------------+----------------------------+------------------------------+-----------------------+-------------------------+\n",
      "|State FIPS|  State|116th Congressional District|2017 NAICS Code|   NAICS Description|Number of Establishments|Employment|Employment Noise Flag|1st Quarter Payroll ($1,000)|1st Quarter Payroll Noise Flag|Annual Payroll ($1,000)|Annual Payroll Noise Flag|\n",
      "+----------+-------+----------------------------+---------------+--------------------+------------------------+----------+---------------------+----------------------------+------------------------------+-----------------------+-------------------------+\n",
      "|         1|Alabama|                           1|         ------|Total for all sec...|                  15,921|  2,44,615|                    G|                   24,92,282|                             G|            1,04,17,508|                        G|\n",
      "|         1|Alabama|                           1|         11----|Agriculture, fore...|                     142|     1,127|                    G|                      10,591|                             G|                 44,855|                        G|\n",
      "|         1|Alabama|                           1|         21----|Mining, quarrying...|                      34|       500|                    G|                      10,491|                             H|                 41,785|                        H|\n",
      "|         1|Alabama|                           1|         22----|           Utilities|                      56|     1,618|                    G|                      46,260|                             H|               1,51,722|                        H|\n",
      "|         1|Alabama|                           1|         23----|        Construction|                   1,367|    16,277|                    G|                    1,94,035|                             G|               8,55,500|                        G|\n",
      "|         1|Alabama|                           1|         31----|       Manufacturing|                     568|    27,761|                    G|                    4,77,179|                             G|              18,97,405|                        G|\n",
      "|         1|Alabama|                           1|         42----|     Wholesale trade|                     857|    10,723|                    G|                    1,52,635|                             G|               6,07,774|                        G|\n",
      "|         1|Alabama|                           1|         44----|        Retail trade|                   2,811|    37,463|                    G|                    2,48,940|                             G|              10,15,434|                        G|\n",
      "|         1|Alabama|                           1|         48----|Transportation an...|                     574|     9,862|                    G|                    1,14,653|                             G|               4,87,821|                        G|\n",
      "|         1|Alabama|                           1|         51----|         Information|                     284|     4,229|                    G|                      64,288|                             G|               2,54,116|                        G|\n",
      "|         1|Alabama|                           1|         52----|Finance and insur...|                   1,184|     9,273|                    G|                    1,39,135|                             G|               5,89,963|                        G|\n",
      "|         1|Alabama|                           1|         53----|Real estate and r...|                     867|     4,411|                    G|                      39,547|                             G|               1,72,784|                        G|\n",
      "|         1|Alabama|                           1|         54----|Professional, sci...|                   1,432|    12,406|                    G|                    2,01,202|                             G|               8,28,587|                        G|\n",
      "|         1|Alabama|                           1|         55----|Management of com...|                     105|     3,216|                    G|                      67,676|                             G|               3,26,639|                        H|\n",
      "|         1|Alabama|                           1|         56----|Administrative an...|                     776|    20,049|                    G|                    1,42,193|                             H|               6,24,241|                        H|\n",
      "|         1|Alabama|                           1|         61----|Educational services|                     149|     5,247|                    H|                      35,641|                             H|               1,51,186|                        H|\n",
      "|         1|Alabama|                           1|         62----|Health care and s...|                   1,418|    32,773|                    G|                    3,36,896|                             G|              14,68,707|                        G|\n",
      "|         1|Alabama|                           1|         71----|Arts, entertainme...|                     207|     3,514|                    G|                      12,609|                             G|                 55,387|                        G|\n",
      "|         1|Alabama|                           1|         72----|Accommodation and...|                   1,408|    31,656|                    G|                    1,22,659|                             G|               5,33,285|                        G|\n",
      "|         1|Alabama|                           1|         81----|Other services (e...|                   1,663|    12,472|                    G|                      75,566|                             G|               3,09,828|                        G|\n",
      "+----------+-------+----------------------------+---------------+--------------------+------------------------+----------+---------------------+----------------------------+------------------------------+-----------------------+-------------------------+\n",
      "only showing top 20 rows\n",
      "\n"
     ]
    }
   ],
   "source": [
    "df.show()"
   ]
  },
  {
   "cell_type": "code",
   "execution_count": 60,
   "metadata": {},
   "outputs": [],
   "source": [
    "from pyspark.sql.functions import udf\n",
    "commaToDot = udf(lambda x : float(str(x).replace(',', '.')), FloatType())\n",
    "df2=df.withColumn('Employment',commaToDot(df.Employment))"
   ]
  },
  {
   "cell_type": "code",
   "execution_count": 40,
   "metadata": {
    "collapsed": true
   },
   "outputs": [
    {
     "data": {
      "text/plain": [
       "['State FIPS',\n",
       " 'State',\n",
       " '116th Congressional District',\n",
       " 'NAICS Description',\n",
       " 'Number of Establishments',\n",
       " 'Employment',\n",
       " 'Employment Noise Flag',\n",
       " '1st Quarter Payroll ($1,000)',\n",
       " '1st Quarter Payroll Noise Flag',\n",
       " 'Annual Payroll ($1,000)',\n",
       " 'Annual Payroll Noise Flag']"
      ]
     },
     "execution_count": 40,
     "metadata": {},
     "output_type": "execute_result"
    }
   ],
   "source": [
    "df.drop(\"2017 NAICS Code\").columns"
   ]
  },
  {
   "cell_type": "code",
   "execution_count": 54,
   "metadata": {
    "scrolled": true
   },
   "outputs": [],
   "source": [
    "from pyspark.sql.functions import regexp_replace\n",
    "from pyspark.sql.types import FloatType\n",
    "df = (\n",
    "         df\n",
    "         .withColumn('Employment', regexp_replace('Employment', ',', ''))\n",
    "        .withColumn('Number of Establishments', regexp_replace('Number of Establishments', ',', ''))\n",
    "        .withColumn('Annual Payroll ($1,000)', regexp_replace('Annual Payroll ($1,000)', ',', ''))\n",
    "        .withColumn('1st Quarter Payroll ($1,000)', regexp_replace('1st Quarter Payroll ($1,000)', ',', ''))\n",
    "#          .withColumn('Employment', df['Employment'].cast(\"int\"))\n",
    "     )"
   ]
  },
  {
   "cell_type": "code",
   "execution_count": 55,
   "metadata": {
    "scrolled": true
   },
   "outputs": [
    {
     "name": "stdout",
     "output_type": "stream",
     "text": [
      "+----------+-------+----------------------------+---------------+--------------------+------------------------+----------+---------------------+----------------------------+------------------------------+-----------------------+-------------------------+\n",
      "|State FIPS|  State|116th Congressional District|2017 NAICS Code|   NAICS Description|Number of Establishments|Employment|Employment Noise Flag|1st Quarter Payroll ($1,000)|1st Quarter Payroll Noise Flag|Annual Payroll ($1,000)|Annual Payroll Noise Flag|\n",
      "+----------+-------+----------------------------+---------------+--------------------+------------------------+----------+---------------------+----------------------------+------------------------------+-----------------------+-------------------------+\n",
      "|         1|Alabama|                           1|         ------|Total for all sec...|                   15921|    244615|                    G|                     2492282|                             G|               10417508|                        G|\n",
      "|         1|Alabama|                           1|         11----|Agriculture, fore...|                     142|      1127|                    G|                       10591|                             G|                  44855|                        G|\n",
      "|         1|Alabama|                           1|         21----|Mining, quarrying...|                      34|       500|                    G|                       10491|                             H|                  41785|                        H|\n",
      "|         1|Alabama|                           1|         22----|           Utilities|                      56|      1618|                    G|                       46260|                             H|                 151722|                        H|\n",
      "|         1|Alabama|                           1|         23----|        Construction|                    1367|     16277|                    G|                      194035|                             G|                 855500|                        G|\n",
      "|         1|Alabama|                           1|         31----|       Manufacturing|                     568|     27761|                    G|                      477179|                             G|                1897405|                        G|\n",
      "|         1|Alabama|                           1|         42----|     Wholesale trade|                     857|     10723|                    G|                      152635|                             G|                 607774|                        G|\n",
      "|         1|Alabama|                           1|         44----|        Retail trade|                    2811|     37463|                    G|                      248940|                             G|                1015434|                        G|\n",
      "|         1|Alabama|                           1|         48----|Transportation an...|                     574|      9862|                    G|                      114653|                             G|                 487821|                        G|\n",
      "|         1|Alabama|                           1|         51----|         Information|                     284|      4229|                    G|                       64288|                             G|                 254116|                        G|\n",
      "|         1|Alabama|                           1|         52----|Finance and insur...|                    1184|      9273|                    G|                      139135|                             G|                 589963|                        G|\n",
      "|         1|Alabama|                           1|         53----|Real estate and r...|                     867|      4411|                    G|                       39547|                             G|                 172784|                        G|\n",
      "|         1|Alabama|                           1|         54----|Professional, sci...|                    1432|     12406|                    G|                      201202|                             G|                 828587|                        G|\n",
      "|         1|Alabama|                           1|         55----|Management of com...|                     105|      3216|                    G|                       67676|                             G|                 326639|                        H|\n",
      "|         1|Alabama|                           1|         56----|Administrative an...|                     776|     20049|                    G|                      142193|                             H|                 624241|                        H|\n",
      "|         1|Alabama|                           1|         61----|Educational services|                     149|      5247|                    H|                       35641|                             H|                 151186|                        H|\n",
      "|         1|Alabama|                           1|         62----|Health care and s...|                    1418|     32773|                    G|                      336896|                             G|                1468707|                        G|\n",
      "|         1|Alabama|                           1|         71----|Arts, entertainme...|                     207|      3514|                    G|                       12609|                             G|                  55387|                        G|\n",
      "|         1|Alabama|                           1|         72----|Accommodation and...|                    1408|     31656|                    G|                      122659|                             G|                 533285|                        G|\n",
      "|         1|Alabama|                           1|         81----|Other services (e...|                    1663|     12472|                    G|                       75566|                             G|                 309828|                        G|\n",
      "+----------+-------+----------------------------+---------------+--------------------+------------------------+----------+---------------------+----------------------------+------------------------------+-----------------------+-------------------------+\n",
      "only showing top 20 rows\n",
      "\n"
     ]
    }
   ],
   "source": [
    "df.show()"
   ]
  },
  {
   "cell_type": "code",
   "execution_count": 74,
   "metadata": {},
   "outputs": [
    {
     "data": {
      "text/plain": [
       "[('State FIPS', 'int'),\n",
       " ('State', 'string'),\n",
       " ('116th Congressional District', 'int'),\n",
       " ('2017 NAICS Code', 'string'),\n",
       " ('NAICS Description', 'string'),\n",
       " ('Number of Establishments', 'string'),\n",
       " ('Employment', 'int'),\n",
       " ('Employment Noise Flag', 'string'),\n",
       " ('1st Quarter Payroll ($1,000)', 'string'),\n",
       " ('1st Quarter Payroll Noise Flag', 'string'),\n",
       " ('Annual Payroll ($1,000)', 'string'),\n",
       " ('Annual Payroll Noise Flag', 'string')]"
      ]
     },
     "execution_count": 74,
     "metadata": {},
     "output_type": "execute_result"
    }
   ],
   "source": [
    "df.dtypes"
   ]
  },
  {
   "cell_type": "code",
   "execution_count": 76,
   "metadata": {},
   "outputs": [
    {
     "name": "stdout",
     "output_type": "stream",
     "text": [
      "+-------+------------------+-------+----------------------------+---------------+--------------------+------------------------+------------------+---------------------+----------------------------+------------------------------+-----------------------+-------------------------+\n",
      "|summary|        State FIPS|  State|116th Congressional District|2017 NAICS Code|   NAICS Description|Number of Establishments|        Employment|Employment Noise Flag|1st Quarter Payroll ($1,000)|1st Quarter Payroll Noise Flag|Annual Payroll ($1,000)|Annual Payroll Noise Flag|\n",
      "+-------+------------------+-------+----------------------------+---------------+--------------------+------------------------+------------------+---------------------+----------------------------+------------------------------+-----------------------+-------------------------+\n",
      "|  count|              9104|   9104|                        9104|           9104|                9104|                    9104|              1319|                 9104|                        9104|                          9104|                   9104|                     9104|\n",
      "|   mean|27.715619507908613|   null|          10.103910369068542|           null|                null|       340.6205947136564|229.46626231993935|                 null|           254.7378048780488|                          null|       520.508064516129|                     null|\n",
      "| stddev|16.247660117346232|   null|           10.64842522491003|           null|                null|      300.92153876547616| 273.1090182486946|                 null|          245.96694031701614|                          null|     233.49499135099492|                     null|\n",
      "|    min|                 1|Alabama|                           0|         ------|Accommodation and...|                   1,000|                 2|                    G|                    1,00,099|                             G|               1,00,090|                        G|\n",
      "|    max|                72|Wyoming|                          53|         99----|     Wholesale trade|                     999|               998|                    J|                         995|                             J|                    995|                        J|\n",
      "+-------+------------------+-------+----------------------------+---------------+--------------------+------------------------+------------------+---------------------+----------------------------+------------------------------+-----------------------+-------------------------+\n",
      "\n"
     ]
    }
   ],
   "source": [
    "df.describe().show()"
   ]
  },
  {
   "cell_type": "code",
   "execution_count": 73,
   "metadata": {},
   "outputs": [],
   "source": [
    "from pyspark.sql.types import IntegerType\n",
    "df = df.withColumn(\"Employment\", df[\"Employment\"].cast(IntegerType()))"
   ]
  },
  {
   "cell_type": "code",
   "execution_count": 98,
   "metadata": {},
   "outputs": [
    {
     "data": {
      "text/plain": [
       "900"
      ]
     },
     "execution_count": 98,
     "metadata": {},
     "output_type": "execute_result"
    }
   ],
   "source": [
    "import locale\n",
    "# locale.setlocale(locale.LC_ALL, 'de_DE') #Germany\n",
    "# df.Employment.astype(int).apply(locale.atof)\n",
    "locale.setlocale(locale.LC_ALL, 'en_US.UTF8')\n",
    "locale.atoi(\"9,0,0\")"
   ]
  },
  {
   "cell_type": "code",
   "execution_count": null,
   "metadata": {},
   "outputs": [],
   "source": [
    "def dict(x,y):\n",
    "    return abs(x-y)\n",
    "udf_dict = udf(dict, IntegerType())"
   ]
  },
  {
   "cell_type": "code",
   "execution_count": 89,
   "metadata": {},
   "outputs": [
    {
     "data": {
      "text/plain": [
       "DataFrame[Employment: int]"
      ]
     },
     "execution_count": 89,
     "metadata": {},
     "output_type": "execute_result"
    }
   ],
   "source": [
    "df.select(\"Employment\")"
   ]
  },
  {
   "cell_type": "code",
   "execution_count": 94,
   "metadata": {
    "scrolled": true
   },
   "outputs": [
    {
     "name": "stdout",
     "output_type": "stream",
     "text": [
      "+----------+\n",
      "|Employment|\n",
      "+----------+\n",
      "|      null|\n",
      "|      null|\n",
      "|       500|\n",
      "|      null|\n",
      "|      null|\n",
      "|      null|\n",
      "|      null|\n",
      "|      null|\n",
      "|      null|\n",
      "|      null|\n",
      "|      null|\n",
      "|      null|\n",
      "|      null|\n",
      "|      null|\n",
      "|      null|\n",
      "|      null|\n",
      "|      null|\n",
      "|      null|\n",
      "|      null|\n",
      "|      null|\n",
      "+----------+\n",
      "only showing top 20 rows\n",
      "\n"
     ]
    }
   ],
   "source": [
    "df.select(\"Employment\").show()\n"
   ]
  },
  {
   "cell_type": "code",
   "execution_count": null,
   "metadata": {},
   "outputs": [],
   "source": []
  }
 ],
 "metadata": {
  "kernelspec": {
   "display_name": "Python 3",
   "language": "python",
   "name": "python3"
  },
  "language_info": {
   "codemirror_mode": {
    "name": "ipython",
    "version": 3
   },
   "file_extension": ".py",
   "mimetype": "text/x-python",
   "name": "python",
   "nbconvert_exporter": "python",
   "pygments_lexer": "ipython3",
   "version": "3.7.1"
  }
 },
 "nbformat": 4,
 "nbformat_minor": 2
}
