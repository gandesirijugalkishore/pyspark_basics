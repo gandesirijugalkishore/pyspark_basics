{
 "cells": [
  {
   "cell_type": "code",
   "execution_count": 1,
   "metadata": {},
   "outputs": [],
   "source": [
    "import pyspark\n",
    "from pyspark.context import SparkContext\n",
    "from pyspark.sql.session import SparkSession\n",
    "sc = SparkContext.getOrCreate()\n",
    "spark = SparkSession(sc)"
   ]
  },
  {
   "cell_type": "code",
   "execution_count": 2,
   "metadata": {},
   "outputs": [
    {
     "data": {
      "text/html": [
       "\n",
       "            <div>\n",
       "                <p><b>SparkSession - in-memory</b></p>\n",
       "                \n",
       "        <div>\n",
       "            <p><b>SparkContext</b></p>\n",
       "\n",
       "            <p><a href=\"http://jk:4040\">Spark UI</a></p>\n",
       "\n",
       "            <dl>\n",
       "              <dt>Version</dt>\n",
       "                <dd><code>v3.0.1</code></dd>\n",
       "              <dt>Master</dt>\n",
       "                <dd><code>local[*]</code></dd>\n",
       "              <dt>AppName</dt>\n",
       "                <dd><code>pyspark-shell</code></dd>\n",
       "            </dl>\n",
       "        </div>\n",
       "        \n",
       "            </div>\n",
       "        "
      ],
      "text/plain": [
       "<pyspark.sql.session.SparkSession at 0x7f9a4842ef60>"
      ]
     },
     "execution_count": 2,
     "metadata": {},
     "output_type": "execute_result"
    }
   ],
   "source": [
    "spark"
   ]
  },
  {
   "cell_type": "code",
   "execution_count": 3,
   "metadata": {},
   "outputs": [],
   "source": [
    "df=spark.read.format(\"csv\").option(\"header\",\"true\").option(\"inferSchema\",\"true\").load(\"us_census.csv\")"
   ]
  },
  {
   "cell_type": "code",
   "execution_count": 19,
   "metadata": {},
   "outputs": [],
   "source": [
    "#dff = spark.read.csv(\"us_census.csv\", header=True, inferSchema=True)"
   ]
  },
  {
   "cell_type": "code",
   "execution_count": 4,
   "metadata": {},
   "outputs": [
    {
     "data": {
      "text/plain": [
       "DataFrame[State FIPS: int, State: string, 116th Congressional District: int, 2017 NAICS Code: string, NAICS Description: string, Number of Establishments: string, Employment: string, Employment Noise Flag: string, 1st Quarter Payroll ($1,000): string, 1st Quarter Payroll Noise Flag: string, Annual Payroll ($1,000): string, Annual Payroll Noise Flag: string]"
      ]
     },
     "execution_count": 4,
     "metadata": {},
     "output_type": "execute_result"
    }
   ],
   "source": [
    "df"
   ]
  },
  {
   "cell_type": "code",
   "execution_count": 10,
   "metadata": {
    "scrolled": true
   },
   "outputs": [
    {
     "name": "stdout",
     "output_type": "stream",
     "text": [
      "+----------+-------+----------------------------+---------------+--------------------+------------------------+----------+---------------------+----------------------------+------------------------------+-----------------------+-------------------------+\n",
      "|State FIPS|  State|116th Congressional District|2017 NAICS Code|   NAICS Description|Number of Establishments|Employment|Employment Noise Flag|1st Quarter Payroll ($1,000)|1st Quarter Payroll Noise Flag|Annual Payroll ($1,000)|Annual Payroll Noise Flag|\n",
      "+----------+-------+----------------------------+---------------+--------------------+------------------------+----------+---------------------+----------------------------+------------------------------+-----------------------+-------------------------+\n",
      "|         1|Alabama|                           1|         ------|Total for all sec...|                  15,921|  2,44,615|                    G|                   24,92,282|                             G|            1,04,17,508|                        G|\n",
      "|         1|Alabama|                           1|         11----|Agriculture, fore...|                     142|     1,127|                    G|                      10,591|                             G|                 44,855|                        G|\n",
      "|         1|Alabama|                           1|         21----|Mining, quarrying...|                      34|       500|                    G|                      10,491|                             H|                 41,785|                        H|\n",
      "|         1|Alabama|                           1|         22----|           Utilities|                      56|     1,618|                    G|                      46,260|                             H|               1,51,722|                        H|\n",
      "|         1|Alabama|                           1|         23----|        Construction|                   1,367|    16,277|                    G|                    1,94,035|                             G|               8,55,500|                        G|\n",
      "|         1|Alabama|                           1|         31----|       Manufacturing|                     568|    27,761|                    G|                    4,77,179|                             G|              18,97,405|                        G|\n",
      "|         1|Alabama|                           1|         42----|     Wholesale trade|                     857|    10,723|                    G|                    1,52,635|                             G|               6,07,774|                        G|\n",
      "|         1|Alabama|                           1|         44----|        Retail trade|                   2,811|    37,463|                    G|                    2,48,940|                             G|              10,15,434|                        G|\n",
      "|         1|Alabama|                           1|         48----|Transportation an...|                     574|     9,862|                    G|                    1,14,653|                             G|               4,87,821|                        G|\n",
      "|         1|Alabama|                           1|         51----|         Information|                     284|     4,229|                    G|                      64,288|                             G|               2,54,116|                        G|\n",
      "|         1|Alabama|                           1|         52----|Finance and insur...|                   1,184|     9,273|                    G|                    1,39,135|                             G|               5,89,963|                        G|\n",
      "|         1|Alabama|                           1|         53----|Real estate and r...|                     867|     4,411|                    G|                      39,547|                             G|               1,72,784|                        G|\n",
      "|         1|Alabama|                           1|         54----|Professional, sci...|                   1,432|    12,406|                    G|                    2,01,202|                             G|               8,28,587|                        G|\n",
      "|         1|Alabama|                           1|         55----|Management of com...|                     105|     3,216|                    G|                      67,676|                             G|               3,26,639|                        H|\n",
      "|         1|Alabama|                           1|         56----|Administrative an...|                     776|    20,049|                    G|                    1,42,193|                             H|               6,24,241|                        H|\n",
      "|         1|Alabama|                           1|         61----|Educational services|                     149|     5,247|                    H|                      35,641|                             H|               1,51,186|                        H|\n",
      "|         1|Alabama|                           1|         62----|Health care and s...|                   1,418|    32,773|                    G|                    3,36,896|                             G|              14,68,707|                        G|\n",
      "|         1|Alabama|                           1|         71----|Arts, entertainme...|                     207|     3,514|                    G|                      12,609|                             G|                 55,387|                        G|\n",
      "|         1|Alabama|                           1|         72----|Accommodation and...|                   1,408|    31,656|                    G|                    1,22,659|                             G|               5,33,285|                        G|\n",
      "|         1|Alabama|                           1|         81----|Other services (e...|                   1,663|    12,472|                    G|                      75,566|                             G|               3,09,828|                        G|\n",
      "+----------+-------+----------------------------+---------------+--------------------+------------------------+----------+---------------------+----------------------------+------------------------------+-----------------------+-------------------------+\n",
      "only showing top 20 rows\n",
      "\n"
     ]
    }
   ],
   "source": [
    "df.show()"
   ]
  },
  {
   "cell_type": "code",
   "execution_count": 27,
   "metadata": {},
   "outputs": [
    {
     "data": {
      "text/plain": [
       "[('State FIPS', 'int'),\n",
       " ('State', 'string'),\n",
       " ('116th Congressional District', 'int'),\n",
       " ('2017 NAICS Code', 'string'),\n",
       " ('NAICS Description', 'string'),\n",
       " ('Number of Establishments', 'string'),\n",
       " ('Employment', 'string'),\n",
       " ('Employment Noise Flag', 'string'),\n",
       " ('1st Quarter Payroll ($1,000)', 'string'),\n",
       " ('1st Quarter Payroll Noise Flag', 'string'),\n",
       " ('Annual Payroll ($1,000)', 'string'),\n",
       " ('Annual Payroll Noise Flag', 'string')]"
      ]
     },
     "execution_count": 27,
     "metadata": {},
     "output_type": "execute_result"
    }
   ],
   "source": [
    "#data types of columns\n",
    "df.dtypes"
   ]
  },
  {
   "cell_type": "code",
   "execution_count": 28,
   "metadata": {},
   "outputs": [],
   "source": [
    "#rename collumns\n",
    "df_rename= df.withColumnRenamed('State FIPS','State_FIPS').withColumnRenamed('116th Congressional District','116_Congressional District')"
   ]
  },
  {
   "cell_type": "code",
   "execution_count": 29,
   "metadata": {},
   "outputs": [
    {
     "data": {
      "text/plain": [
       "['State_FIPS',\n",
       " 'State',\n",
       " '116_Congressional District',\n",
       " '2017 NAICS Code',\n",
       " 'NAICS Description',\n",
       " 'Number of Establishments',\n",
       " 'Employment',\n",
       " 'Employment Noise Flag',\n",
       " '1st Quarter Payroll ($1,000)',\n",
       " '1st Quarter Payroll Noise Flag',\n",
       " 'Annual Payroll ($1,000)',\n",
       " 'Annual Payroll Noise Flag']"
      ]
     },
     "execution_count": 29,
     "metadata": {},
     "output_type": "execute_result"
    }
   ],
   "source": [
    "df_rename.columns"
   ]
  },
  {
   "cell_type": "code",
   "execution_count": 8,
   "metadata": {},
   "outputs": [],
   "source": [
    "#rename method-2\n",
    "from pyspark.sql import functions as F\n",
    "\n",
    "renamed_df = df.select([F.col(col).alias(col.replace(' ', '_')) for col in df.columns])"
   ]
  },
  {
   "cell_type": "code",
   "execution_count": 9,
   "metadata": {},
   "outputs": [
    {
     "data": {
      "text/plain": [
       "['State_FIPS',\n",
       " 'State',\n",
       " '116th_Congressional_District',\n",
       " '2017_NAICS_Code',\n",
       " 'NAICS_Description',\n",
       " 'Number_of_Establishments',\n",
       " 'Employment',\n",
       " 'Employment_Noise_Flag',\n",
       " '1st_Quarter_Payroll_($1,000)',\n",
       " '1st_Quarter_Payroll_Noise_Flag',\n",
       " 'Annual_Payroll_($1,000)',\n",
       " 'Annual_Payroll_Noise_Flag']"
      ]
     },
     "execution_count": 9,
     "metadata": {},
     "output_type": "execute_result"
    }
   ],
   "source": [
    "renamed_df.columns"
   ]
  },
  {
   "cell_type": "code",
   "execution_count": 47,
   "metadata": {},
   "outputs": [
    {
     "name": "stdout",
     "output_type": "stream",
     "text": [
      "+-------+------------------+----------------------------+\n",
      "|summary|        State FIPS|116th Congressional District|\n",
      "+-------+------------------+----------------------------+\n",
      "|  count|              9104|                        9104|\n",
      "|   mean|27.715619507908613|          10.103910369068542|\n",
      "| stddev|16.247660117346232|           10.64842522491003|\n",
      "|    min|                 1|                           0|\n",
      "|    max|                72|                          53|\n",
      "+-------+------------------+----------------------------+\n",
      "\n"
     ]
    }
   ],
   "source": [
    "x=df.describe('State FIPS','116th Congressional District')\n",
    "x.show()"
   ]
  },
  {
   "cell_type": "code",
   "execution_count": 75,
   "metadata": {},
   "outputs": [
    {
     "name": "stdout",
     "output_type": "stream",
     "text": [
      "+-------------+\n",
      "|pay_roll_diff|\n",
      "+-------------+\n",
      "|        403.0|\n",
      "|        225.0|\n",
      "|        348.0|\n",
      "|        912.0|\n",
      "|        191.0|\n",
      "|        427.0|\n",
      "|        472.0|\n",
      "|        601.0|\n",
      "|        367.0|\n",
      "|        402.0|\n",
      "|        285.0|\n",
      "|        557.0|\n",
      "|        452.0|\n",
      "|        253.0|\n",
      "|        281.0|\n",
      "|        337.0|\n",
      "|        687.0|\n",
      "|        390.0|\n",
      "|        545.0|\n",
      "|        729.0|\n",
      "+-------------+\n",
      "only showing top 20 rows\n",
      "\n"
     ]
    }
   ],
   "source": [
    "from pyspark.sql.functions import col\n",
    "df_diff = df.withColumn('pay_roll_diff', df['Annual Payroll ($1,000)'] - df['1st Quarter Payroll ($1,000)'])\n",
    "# df_diff.select(\"pay_roll_diff\").show()\n",
    "df_diff.where(col(\"pay_roll_diff\").isNotNull()).select(\"pay_roll_diff\").show()"
   ]
  },
  {
   "cell_type": "code",
   "execution_count": 76,
   "metadata": {},
   "outputs": [],
   "source": [
    "df_diff=df_diff.groupby(\"State\")"
   ]
  },
  {
   "cell_type": "code",
   "execution_count": 77,
   "metadata": {},
   "outputs": [
    {
     "name": "stdout",
     "output_type": "stream",
     "text": [
      "+--------------------+------------------+\n",
      "|               State|avg(pay_roll_diff)|\n",
      "+--------------------+------------------+\n",
      "|                Utah|             511.0|\n",
      "|              Hawaii|             476.0|\n",
      "|           Minnesota|            452.75|\n",
      "|                Ohio|             330.9|\n",
      "|            Arkansas|            423.75|\n",
      "|              Oregon|             436.0|\n",
      "|               Texas| 482.2972972972973|\n",
      "|        North Dakota|              null|\n",
      "|        Pennsylvania| 355.3157894736842|\n",
      "|         Connecticut|            415.75|\n",
      "|            Nebraska| 548.6666666666666|\n",
      "|             Vermont|              null|\n",
      "|              Nevada|             365.5|\n",
      "|         Puerto Rico|             546.0|\n",
      "|          Washington|             462.0|\n",
      "|            Illinois| 286.6818181818182|\n",
      "|            Oklahoma|            413.25|\n",
      "|District of Columbia|              null|\n",
      "|            Delaware|              null|\n",
      "|              Alaska|              null|\n",
      "+--------------------+------------------+\n",
      "only showing top 20 rows\n",
      "\n"
     ]
    }
   ],
   "source": [
    "df_avg=df_diff.avg(\"pay_roll_diff\")\n",
    "df_avg.show()"
   ]
  },
  {
   "cell_type": "code",
   "execution_count": 19,
   "metadata": {},
   "outputs": [
    {
     "name": "stdout",
     "output_type": "stream",
     "text": [
      "+----------+-----+----------------------+----------+-----------------+------------------------+----------+---------------------+---------------+--------------------------+--------------+-------------------------+\n",
      "|State_FIPS|State|Congressional_District|NAICS_Code|NAICS_Description|Number_of_Establishments|Employment|Employment_Noise_Flag|Quarter_Payroll|Quarter_Payroll_Noise_Flag|Annual_Payroll|Annual_Payroll_Noise_Flag|\n",
      "+----------+-----+----------------------+----------+-----------------+------------------------+----------+---------------------+---------------+--------------------------+--------------+-------------------------+\n",
      "|         0|    0|                     0|         0|                0|                       0|         0|                    0|              0|                         0|             0|                        0|\n",
      "|         0|    0|                     0|         0|                0|                       0|         0|                    0|              0|                         0|             0|                        0|\n",
      "|         0|    0|                     0|         0|                0|                       0|         0|                    0|              0|                         0|             0|                        0|\n",
      "|         0|    0|                     0|         0|                0|                       0|         0|                    0|              0|                         0|             0|                        0|\n",
      "|         0|    0|                     0|         0|                0|                       0|         0|                    0|              0|                         0|             0|                        0|\n",
      "|         0|    0|                     0|         0|                0|                       0|         0|                    0|              0|                         0|             0|                        0|\n",
      "|         0|    0|                     0|         0|                0|                       0|         0|                    0|              0|                         0|             0|                        0|\n",
      "|         0|    0|                     0|         0|                0|                       0|         0|                    0|              0|                         0|             0|                        0|\n",
      "|         0|    0|                     0|         0|                0|                       0|         0|                    0|              0|                         0|             0|                        0|\n",
      "|         0|    0|                     0|         0|                0|                       0|         0|                    0|              0|                         0|             0|                        0|\n",
      "|         0|    0|                     0|         0|                0|                       0|         0|                    0|              0|                         0|             0|                        0|\n",
      "|         0|    0|                     0|         0|                0|                       0|         0|                    0|              0|                         0|             0|                        0|\n",
      "|         0|    0|                     0|         0|                0|                       0|         0|                    0|              0|                         0|             0|                        0|\n",
      "|         0|    0|                     0|         0|                0|                       0|         0|                    0|              0|                         0|             0|                        0|\n",
      "|         0|    0|                     0|         0|                0|                       0|         0|                    0|              0|                         0|             0|                        0|\n",
      "|         0|    0|                     0|         0|                0|                       0|         0|                    0|              0|                         0|             0|                        0|\n",
      "|         0|    0|                     0|         0|                0|                       0|         0|                    0|              0|                         0|             0|                        0|\n",
      "|         0|    0|                     0|         0|                0|                       0|         0|                    0|              0|                         0|             0|                        0|\n",
      "|         0|    0|                     0|         0|                0|                       0|         0|                    0|              0|                         0|             0|                        0|\n",
      "|         0|    0|                     0|         0|                0|                       0|         0|                    0|              0|                         0|             0|                        0|\n",
      "+----------+-----+----------------------+----------+-----------------+------------------------+----------+---------------------+---------------+--------------------------+--------------+-------------------------+\n",
      "only showing top 20 rows\n",
      "\n"
     ]
    }
   ],
   "source": [
    "renamed_df=renamed_df.withColumnRenamed('Annual_Payroll_($1,000)','Annual_Payroll')\n",
    "renamed_df=renamed_df.select([eval('renamed_df.' + x + '.isNull().cast(\"int\").alias(\"' + x + '\")') for x in renamed_df.columns]).show(n=20)"
   ]
  },
  {
   "cell_type": "code",
   "execution_count": 4,
   "metadata": {},
   "outputs": [],
   "source": [
    "from pyspark import SQLContext\n",
    "\n",
    "sqlContext = SQLContext(sc)"
   ]
  },
  {
   "cell_type": "code",
   "execution_count": 6,
   "metadata": {},
   "outputs": [],
   "source": [
    "from pyspark.sql import Row\n",
    "l = [('Ankit',25),('Jalfaizy',22),('saurabh',20),('Bala',26)]\n",
    "rdd = sc.parallelize(l)\n",
    "people = rdd.map(lambda x: Row(name=x[0], age=int(x[1])))\n",
    "schemaPeople = sqlContext.createDataFrame(people)"
   ]
  },
  {
   "cell_type": "code",
   "execution_count": 22,
   "metadata": {},
   "outputs": [
    {
     "data": {
      "text/plain": [
       "pyspark.sql.dataframe.DataFrame"
      ]
     },
     "execution_count": 22,
     "metadata": {},
     "output_type": "execute_result"
    }
   ],
   "source": [
    "type(schemaPeople)"
   ]
  },
  {
   "cell_type": "code",
   "execution_count": 23,
   "metadata": {},
   "outputs": [
    {
     "name": "stdout",
     "output_type": "stream",
     "text": [
      "+--------+---+\n",
      "|    name|age|\n",
      "+--------+---+\n",
      "|   Ankit| 25|\n",
      "|Jalfaizy| 22|\n",
      "| saurabh| 20|\n",
      "|    Bala| 26|\n",
      "+--------+---+\n",
      "\n"
     ]
    }
   ],
   "source": [
    "schemaPeople.show()"
   ]
  },
  {
   "cell_type": "code",
   "execution_count": 17,
   "metadata": {},
   "outputs": [
    {
     "name": "stdout",
     "output_type": "stream",
     "text": [
      "+-------+-------+------------------+\n",
      "|summary|   name|               age|\n",
      "+-------+-------+------------------+\n",
      "|  count|      4|                 4|\n",
      "|   mean|   null|             23.25|\n",
      "| stddev|   null|2.7537852736430515|\n",
      "|    min|  Ankit|                20|\n",
      "|    max|saurabh|                26|\n",
      "+-------+-------+------------------+\n",
      "\n"
     ]
    }
   ],
   "source": [
    "schemaPeople.describe().show()"
   ]
  },
  {
   "cell_type": "code",
   "execution_count": 20,
   "metadata": {},
   "outputs": [],
   "source": [
    "schemaPeople.registerTempTable('schemaPeople')"
   ]
  },
  {
   "cell_type": "code",
   "execution_count": 21,
   "metadata": {},
   "outputs": [
    {
     "name": "stdout",
     "output_type": "stream",
     "text": [
      "+--------+\n",
      "|    name|\n",
      "+--------+\n",
      "|   Ankit|\n",
      "|Jalfaizy|\n",
      "| saurabh|\n",
      "|    Bala|\n",
      "+--------+\n",
      "\n"
     ]
    }
   ],
   "source": [
    "sqlContext.sql('select name from schemaPeople').show(5)"
   ]
  },
  {
   "cell_type": "code",
   "execution_count": null,
   "metadata": {},
   "outputs": [],
   "source": []
  }
 ],
 "metadata": {
  "kernelspec": {
   "display_name": "Python 3",
   "language": "python",
   "name": "python3"
  },
  "language_info": {
   "codemirror_mode": {
    "name": "ipython",
    "version": 3
   },
   "file_extension": ".py",
   "mimetype": "text/x-python",
   "name": "python",
   "nbconvert_exporter": "python",
   "pygments_lexer": "ipython3",
   "version": "3.7.1"
  }
 },
 "nbformat": 4,
 "nbformat_minor": 2
}
